{
 "cells": [
  {
   "cell_type": "code",
   "execution_count": 1,
   "id": "e1ca3796",
   "metadata": {},
   "outputs": [],
   "source": [
    "from lxml import etree\n",
    "text = \"\"\"\n",
    "<div>\n",
    "<ul>\n",
    "<li class=\"item-0\"><a href=\"link1.html\">first item</a></li>\n",
    "<li class=\"item-1\"><a href=\"link2.html\">second item</a></li>\n",
    "<li class=\"item-inactive\"><a href=\"link3.html\">third item</a></li>\n",
    "<li class=\"item-1\"><a href=\"link4.html\">fourth item</a></li>\n",
    "<li class =\"item-0\"><a href=\"links html\">fifth item</a>\n",
    "</ul>\n",
    "</div>\n",
    "\"\"\""
   ]
  },
  {
   "cell_type": "code",
   "execution_count": 2,
   "id": "347dfdbe",
   "metadata": {},
   "outputs": [
    {
     "name": "stdout",
     "output_type": "stream",
     "text": [
      "[<Element html at 0x7f0054e02200>, <Element body at 0x7f0054e68700>, <Element div at 0x7f0054ec1940>, <Element ul at 0x7f0054ec1680>, <Element li at 0x7f0054ec1980>, <Element a at 0x7f0054ec19c0>, <Element li at 0x7f0054ec1a40>, <Element a at 0x7f0054ec1a80>, <Element li at 0x7f0054ec1ac0>, <Element a at 0x7f0054ec1a00>, <Element li at 0x7f0054ec1b00>, <Element a at 0x7f0054ec1b40>, <Element li at 0x7f0054ec1b80>, <Element a at 0x7f0054ec1bc0>]\n",
      "[<Element li at 0x7f0054ec1980>, <Element li at 0x7f0054ec1a40>, <Element li at 0x7f0054ec1ac0>, <Element li at 0x7f0054ec1b00>, <Element li at 0x7f0054ec1b80>]\n",
      "<Element li at 0x7f0054ec1980>\n"
     ]
    }
   ],
   "source": [
    "\"\"\"To get all html nodes\"\"\"\n",
    "\n",
    "html = etree.parse('../data/test.html', etree.HTMLParser())\n",
    "result = html.xpath('//*')\n",
    "print(result)\n",
    "result = html.xpath('//li')\n",
    "print(result)\n",
    "print(result[0])"
   ]
  },
  {
   "cell_type": "code",
   "execution_count": 3,
   "id": "8922472b",
   "metadata": {},
   "outputs": [
    {
     "name": "stdout",
     "output_type": "stream",
     "text": [
      "[<Element a at 0x7f0054ec2240>, <Element a at 0x7f0054ec23c0>, <Element a at 0x7f0054ec2400>, <Element a at 0x7f0054ec2440>, <Element a at 0x7f0054ec2480>]\n"
     ]
    }
   ],
   "source": [
    "\"\"\"To get the direct child ndoe\"\"\"\n",
    "\n",
    "result = html.xpath('//li/a')\n",
    "print(result)"
   ]
  },
  {
   "cell_type": "code",
   "execution_count": 4,
   "id": "471b6c7f",
   "metadata": {},
   "outputs": [
    {
     "name": "stdout",
     "output_type": "stream",
     "text": [
      "['item-1']\n"
     ]
    }
   ],
   "source": [
    "\"\"\"To get the father node\"\"\"\n",
    "\n",
    "result = html.xpath('//a[@href=\"link4.html\"]/../@class')\n",
    "print(result) # 或将..换成 'parent::*'"
   ]
  },
  {
   "cell_type": "code",
   "execution_count": 5,
   "id": "8e9da251",
   "metadata": {},
   "outputs": [
    {
     "name": "stdout",
     "output_type": "stream",
     "text": [
      "[<Element li at 0x7f0054ec27c0>, <Element li at 0x7f0054ec3440>]\n"
     ]
    }
   ],
   "source": [
    "\"\"\"Search by attributes\"\"\"\n",
    "\n",
    "result = html.xpath('//li[@class=\"item-0\"]')\n",
    "print(result)"
   ]
  },
  {
   "cell_type": "code",
   "execution_count": 6,
   "id": "93341c93",
   "metadata": {},
   "outputs": [
    {
     "name": "stdout",
     "output_type": "stream",
     "text": [
      "['first item', 'fifth item', '\\r\\n    ']\n",
      "['first item', 'fifth item']\n"
     ]
    }
   ],
   "source": [
    "\"\"\"To get the text content\"\"\"\n",
    "\n",
    "result = html.xpath('//li[@class=\"item-0\"]//text()')    # 所有子孙节点的文本\n",
    "print(result)   # 会包含换行符等特殊字符\n",
    "result = html.xpath('//li[@class=\"item-0\"]/a/text()')   # a节点中的文本\n",
    "print(result)   # 可以保证获取结果是整洁的"
   ]
  },
  {
   "cell_type": "code",
   "execution_count": 7,
   "id": "32512945",
   "metadata": {},
   "outputs": [
    {
     "name": "stdout",
     "output_type": "stream",
     "text": [
      "['link1.html', 'link2.html', 'link3.html', 'link4.html', 'links html']\n"
     ]
    }
   ],
   "source": [
    "\"\"\"To get the attributes\"\"\"\n",
    "\n",
    "result = html.xpath('//li/a/@href')\n",
    "print(result)"
   ]
  },
  {
   "cell_type": "code",
   "execution_count": 8,
   "id": "daff1083",
   "metadata": {},
   "outputs": [
    {
     "name": "stdout",
     "output_type": "stream",
     "text": [
      "[]\n",
      "['first item']\n"
     ]
    }
   ],
   "source": [
    "\"\"\"Attribute multi-value matching\"\"\"\n",
    "\n",
    "text = \"\"\"\n",
    "<li class=\"li li-first\"><a href=\"link.html\">first item</a></li>\n",
    "\"\"\"\n",
    "html = etree.HTML(text)\n",
    "result = html.xpath('//li[@class=\"li\"]/a/text()')\n",
    "print(result)   # 无输出\n",
    "result = html.xpath('//li[contains(@class, \"li\")]/a/text()')\n",
    "print(result)   # 正确输出------contains(@属性名称，属性值)"
   ]
  },
  {
   "cell_type": "code",
   "execution_count": 9,
   "id": "ad52930f",
   "metadata": {},
   "outputs": [
    {
     "name": "stdout",
     "output_type": "stream",
     "text": [
      "['first item']\n"
     ]
    }
   ],
   "source": [
    "\"\"\"Multi-attribute matching\"\"\"\n",
    "\n",
    "text = \"\"\"\n",
    "<li class=\"li li-first\" name=\"item\"><a href=\"link.html\">first item</a></li>\n",
    "\"\"\"\n",
    "html = etree.HTML(text)\n",
    "result = html.xpath('//li[contains(@class, \"li\") and @name=\"item\"]/a/text()')\n",
    "print(result)   # 注意@符号，任何属性都必须有"
   ]
  },
  {
   "cell_type": "code",
   "execution_count": 10,
   "id": "3484fe3e",
   "metadata": {},
   "outputs": [
    {
     "name": "stdout",
     "output_type": "stream",
     "text": [
      "['first item']\n",
      "['fifth item']\n",
      "['first item', 'second item']\n",
      "['third item']\n"
     ]
    }
   ],
   "source": [
    "\"\"\"Select sequentially\"\"\"\n",
    "\n",
    "html = etree.parse('../data/test.html', etree.HTMLParser())\n",
    "result = html.xpath('//li[1]/a/text()')     # 第一个li节点\n",
    "print(result)\n",
    "result = html.xpath('//li[last()]/a/text()')    # 最后一个li节点\n",
    "print(result)\n",
    "result = html.xpath('//li[position()<3]/a/text()')  # 位置小于3的节点\n",
    "print(result)\n",
    "result = html.xpath('//li[last()-2]/a/text()')  # 倒数第三个节点，不能用-3\n",
    "print(result)"
   ]
  },
  {
   "cell_type": "code",
   "execution_count": 11,
   "id": "5173ddc3",
   "metadata": {},
   "outputs": [
    {
     "name": "stdout",
     "output_type": "stream",
     "text": [
      "[<Element html at 0x7f00315df000>, <Element body at 0x7f00315df1c0>, <Element div at 0x7f00315df280>, <Element ul at 0x7f00315df2c0>]\n",
      "[<Element div at 0x7f00315df280>]\n",
      "['item-0']\n",
      "[<Element a at 0x7f00315df3c0>]\n",
      "[]\n",
      "[<Element a at 0x7f00315dc9c0>]\n",
      "[<Element li at 0x7f00315df2c0>, <Element li at 0x7f00315ddc00>, <Element li at 0x7f00315df380>, <Element li at 0x7f00315df300>]\n"
     ]
    }
   ],
   "source": [
    "\"\"\"Node axis selection\"\"\"\n",
    "\n",
    "html = etree.parse('../data/test.html', etree.HTMLParser())\n",
    "\n",
    "result = html.xpath('//li[1]/ancestor::*')  # 获取所有祖先节点，需要跟::，*表示节点选择器匹配所有节点\n",
    "print(result)\n",
    "result = html.xpath('//li[1]/ancestor::div')    # 节点选择器为div\n",
    "print(result)\n",
    "result = html.xpath('//li[1]/attribute::*')     # 调用attribute轴，获取所有属性值，*表示获取节点所有属性\n",
    "print(result)\n",
    "result = html.xpath('//li[1]/child::a[@href=\"link1.html\"]') # child获取直接子节点，::后跟节点选择器\n",
    "print(result)\n",
    "result = html.xpath('//li[1]/descendant::span')  # descendant轴获取所有子孙节点\n",
    "print(result)\n",
    "result = html.xpath('//li[1]/following::*[2]')   # following轴获取当前节点之后的所有节点\n",
    "print(result)\n",
    "result = html.xpath('//li[1]/following-sibling::*')  # 当前节点之后所有同级节点\n",
    "print(result)"
   ]
  },
  {
   "cell_type": "code",
   "execution_count": null,
   "id": "eef19ff4",
   "metadata": {},
   "outputs": [],
   "source": []
  }
 ],
 "metadata": {
  "kernelspec": {
   "display_name": "Python 3 (ipykernel)",
   "language": "python",
   "name": "python3"
  },
  "language_info": {
   "codemirror_mode": {
    "name": "ipython",
    "version": 3
   },
   "file_extension": ".py",
   "mimetype": "text/x-python",
   "name": "python",
   "nbconvert_exporter": "python",
   "pygments_lexer": "ipython3",
   "version": "3.11.5"
  }
 },
 "nbformat": 4,
 "nbformat_minor": 5
}
