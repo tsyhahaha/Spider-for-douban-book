{
 "cells": [
  {
   "cell_type": "code",
   "execution_count": 1,
   "metadata": {
    "scrolled": true
   },
   "outputs": [],
   "source": [
    "import socket\n",
    "from urllib import request, error"
   ]
  },
  {
   "cell_type": "code",
   "execution_count": 2,
   "metadata": {},
   "outputs": [
    {
     "name": "stdout",
     "output_type": "stream",
     "text": [
      "Not Found\n",
      "Not Found\n",
      "404\n",
      "Content-Length: 205\n",
      "Content-Type: text/html; charset=iso-8859-1\n",
      "Date: Tue, 14 Nov 2023 06:09:23 GMT\n",
      "Server: Apache\n",
      "Set-Cookie: BAIDUID=6668922EC03D169231A0BCCDCA7D20C4:FG=1; Path=/; Domain=baidu.com; Max-Age=31536000\n",
      "Set-Cookie: BAIDUID_BFESS=6668922EC03D169231A0BCCDCA7D20C4:FG=1; Path=/; Domain=baidu.com; Max-Age=31536000; Secure; SameSite=None\n",
      "Connection: close\n",
      "\n",
      "\n"
     ]
    }
   ],
   "source": [
    "\"\"\"urllib.error\"\"\"\n",
    "\n",
    "# 3 types of error: ['URLError', 'HTTPError', 'ContentTooShortError']\n",
    "try:\n",
    "    response = request.urlopen(\"https://baidu.com/index.h\")\n",
    "except error.URLError as e:\n",
    "    print(e.reason)\n",
    "    \n",
    "try:\n",
    "    response = request.urlopen('https://baidu.com/index.h')\n",
    "except error.HTTPError as e:\n",
    "    print(e.reason, e.code, e.headers, sep='\\n')\n",
    "# URLError是HTTPError的父类，所以可以先捕获子类的错误，再捕获父类的错误\n"
   ]
  },
  {
   "cell_type": "code",
   "execution_count": 3,
   "metadata": {},
   "outputs": [
    {
     "name": "stdout",
     "output_type": "stream",
     "text": [
      "<class 'TimeoutError'>\n",
      "Time Out\n"
     ]
    }
   ],
   "source": [
    "\"\"\"discuss the class of error\"\"\"\n",
    "\n",
    "try:\n",
    "    response = request.urlopen('https://www.baidu.com', timeout=0.01)\n",
    "except error.URLError as e:\n",
    "    print(type(e.reason))\n",
    "    if isinstance(e.reason, socket.timeout):\n",
    "        print('Time Out')"
   ]
  },
  {
   "cell_type": "code",
   "execution_count": null,
   "metadata": {},
   "outputs": [],
   "source": []
  }
 ],
 "metadata": {
  "kernelspec": {
   "display_name": "Python 3 (ipykernel)",
   "language": "python",
   "name": "python3"
  },
  "language_info": {
   "codemirror_mode": {
    "name": "ipython",
    "version": 3
   },
   "file_extension": ".py",
   "mimetype": "text/x-python",
   "name": "python",
   "nbconvert_exporter": "python",
   "pygments_lexer": "ipython3",
   "version": "3.11.5"
  }
 },
 "nbformat": 4,
 "nbformat_minor": 2
}
