{
 "cells": [
  {
   "cell_type": "code",
   "execution_count": 1,
   "id": "681c0476",
   "metadata": {},
   "outputs": [],
   "source": [
    "from urllib.parse import urlparse, urlunparse \n",
    "from urllib.parse import urlsplit, urlunsplit\n",
    "from urllib.parse import urljoin, urlencode\n",
    "from urllib.parse import parse_qs, parse_qsl\n",
    "from urllib.parse import quote, unquote"
   ]
  },
  {
   "cell_type": "code",
   "execution_count": 4,
   "id": "e610f870",
   "metadata": {
    "scrolled": true
   },
   "outputs": [
    {
     "name": "stdout",
     "output_type": "stream",
     "text": [
      "<class 'urllib.parse.ParseResult'>\n",
      "ParseResult(scheme='http', netloc='www.baidu.com', path='/index.html', params='user', query='id=5', fragment='comment')\n",
      "http://www.baidu.com/index.html;user?a=6#comment\n"
     ]
    }
   ],
   "source": [
    "\"\"\"\n",
    "urlparse(url: string, scheme='', allow_fragments=True)\n",
    "url：scheme协议，netloc域名，path访问路径，params参数，query查询条件，#后是锚点\n",
    "\"\"\"\n",
    "\n",
    "result = urlparse('http://www.baidu.com/index.html;user?id=5#comment')\n",
    "print(type(result), result, sep='\\n')\n",
    "\n",
    "data = ['http', 'www.baidu.com', 'index.html','user', 'a=6', 'comment']\n",
    "print(urlunparse(data))"
   ]
  },
  {
   "cell_type": "code",
   "execution_count": 5,
   "id": "365638b2",
   "metadata": {},
   "outputs": [
    {
     "name": "stdout",
     "output_type": "stream",
     "text": [
      "SplitResult(scheme='http', netloc='ww.baidu.com', path='/index.html;user', query='id=5', fragment='comment')\n",
      "http://www.baidu.com/index.html?a=6#comment\n"
     ]
    }
   ],
   "source": [
    "\"\"\"urlsplit: like urlparse，but doesn't parse params\"\"\"\n",
    "\n",
    "result = urlsplit('http://ww.baidu.com/index.html;user?id=5#comment')\n",
    "print(result)\n",
    "\n",
    "data = ['http', 'www.baidu.com', 'index.html', 'a=6', 'comment']\n",
    "print(urlunsplit(data))"
   ]
  },
  {
   "cell_type": "code",
   "execution_count": 6,
   "id": "bdb44dd0",
   "metadata": {},
   "outputs": [
    {
     "name": "stdout",
     "output_type": "stream",
     "text": [
      "http://www.baidu.com/FAQ.html\n",
      "https://cuiqingcai.com/FAQ.html\n",
      "https://cuiqingcai.com/index.php\n",
      "www.baidu.com?category=2#comment\n"
     ]
    }
   ],
   "source": [
    "print(urljoin('http://www.baidu.com', 'FAQ.html'))\n",
    "print(urljoin('http://www.baidu.com', 'https://cuiqingcai.com/FAQ.html'))\n",
    "print(urljoin('http://www.baidu.com/about.html', 'https://cuiqingcai.com/index.php'))\n",
    "print(urljoin('www.baidu.com', '?category=2#comment'))"
   ]
  },
  {
   "cell_type": "code",
   "execution_count": 7,
   "id": "6f20a005",
   "metadata": {},
   "outputs": [
    {
     "name": "stdout",
     "output_type": "stream",
     "text": [
      "http://www.baidu.com?name=germey&age=22\n"
     ]
    }
   ],
   "source": [
    "\"\"\"urlencode: encode a dict params for url suffix\"\"\"\n",
    "\n",
    "params = {\n",
    "    'name': 'germey',\n",
    "    'age': 22\n",
    "}\n",
    "base_url = 'http://www.baidu.com?'\n",
    "url = base_url+urlencode(params)\n",
    "print(url)"
   ]
  },
  {
   "cell_type": "code",
   "execution_count": 10,
   "id": "73b71b4f",
   "metadata": {},
   "outputs": [
    {
     "name": "stdout",
     "output_type": "stream",
     "text": [
      "{'name': ['germey'], 'age': ['22']}\n",
      "[('name', 'germey'), ('age', '22')]\n"
     ]
    }
   ],
   "source": [
    "\"\"\"transfer query params ot dict/list of tuple\"\"\"\n",
    "\n",
    "query = 'name=germey&age=22'\n",
    "print(parse_qs(query))\n",
    "print(parse_qsl(query))"
   ]
  },
  {
   "cell_type": "code",
   "execution_count": 12,
   "id": "a482493f",
   "metadata": {},
   "outputs": [
    {
     "name": "stdout",
     "output_type": "stream",
     "text": [
      "https://www.baidu.com/s?wd=%E5%8F%82%E6%95%B0\n",
      "https://www.baidu.com/s?wd=参数\n"
     ]
    }
   ],
   "source": [
    "\"\"\"\n",
    "Convert content into URL encoded format, such as \n",
    "Chinese parameter conversion,to prevent garbled characters\n",
    "\"\"\"\n",
    "\n",
    "keyword = '参数'\n",
    "url = 'https://www.baidu.com/s?wd='+quote(keyword)\n",
    "print(url)\n",
    "\n",
    "url = 'https://www.baidu.com/s?wd=%E5%8F%82%E6%95%B0'\n",
    "print(unquote(url))"
   ]
  },
  {
   "cell_type": "code",
   "execution_count": null,
   "id": "32d7678f",
   "metadata": {},
   "outputs": [],
   "source": []
  }
 ],
 "metadata": {
  "kernelspec": {
   "display_name": "Python 3 (ipykernel)",
   "language": "python",
   "name": "python3"
  },
  "language_info": {
   "codemirror_mode": {
    "name": "ipython",
    "version": 3
   },
   "file_extension": ".py",
   "mimetype": "text/x-python",
   "name": "python",
   "nbconvert_exporter": "python",
   "pygments_lexer": "ipython3",
   "version": "3.11.5"
  }
 },
 "nbformat": 4,
 "nbformat_minor": 5
}
