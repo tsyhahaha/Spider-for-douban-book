{
 "cells": [
  {
   "cell_type": "code",
   "execution_count": 1,
   "id": "220565b6",
   "metadata": {},
   "outputs": [],
   "source": [
    "import re\n",
    "from bs4 import BeautifulSoup\n",
    "html = \"\"\"\n",
    "<html><head><title>The Dormouse's story</title></head>\n",
    "<body>\n",
    "<p class=\"title\" name=\"dromouse\"><b>The Dormouse's story</b></p>\n",
    "<p class=\"story\">Once upon a time there were three little sisters; and their names were\n",
    "<a href=\"http://example.com/elsie\" class=\"sister\" id=\"link1\"><?-- Elsie --></a>,\n",
    "<a href=\"http://example.com/lacie\" class=\"sister\" id=\"link2\">Lacie</a> and\n",
    "<a href=\"http://example.com/tillie\" class=\"sister\" id=\"link3\">Tillie</a>;\n",
    "and they lived at the bottom of a well.</p>\n",
    "<p class=\"story\">...</p>\n",
    "\"\"\""
   ]
  },
  {
   "cell_type": "code",
   "execution_count": 2,
   "id": "6cb62137",
   "metadata": {},
   "outputs": [
    {
     "name": "stdout",
     "output_type": "stream",
     "text": [
      "The Dormouse's story\n"
     ]
    }
   ],
   "source": [
    "\"\"\"simple demo\"\"\"\n",
    "\n",
    "# BeautifulSoup 会自动对 html 格式进行 label 的补全，如会加上 </body> 等\n",
    "soup = BeautifulSoup(html, 'lxml')  \n",
    "# print(soup.prettify())  # 按标准缩进格式输出\n",
    "print(soup.title.string)    # use 'string' to get content"
   ]
  },
  {
   "cell_type": "code",
   "execution_count": 3,
   "id": "adf0d154",
   "metadata": {
    "scrolled": true
   },
   "outputs": [
    {
     "name": "stdout",
     "output_type": "stream",
     "text": [
      "<title>The Dormouse's story</title>\n",
      "<class 'bs4.element.Tag'>\n",
      "The Dormouse's story\n",
      "<head><title>The Dormouse's story</title></head>\n",
      "The Dormouse's story\n",
      "<p class=\"title\" name=\"dromouse\"><b>The Dormouse's story</b></p>\n",
      "title\n"
     ]
    }
   ],
   "source": [
    "\"\"\"bs: select node as attributes\"\"\"\n",
    "\n",
    "soup = BeautifulSoup(html, 'lxml')\n",
    "print(soup.title)\n",
    "print(type(soup.title))     # bs4.elemnt.Tag\n",
    "print(soup.title.string)\n",
    "print(soup.head)\n",
    "print(soup.head.title.string)  # 嵌套选择\n",
    "print(soup.p)\n",
    "print(soup.title.name)"
   ]
  },
  {
   "cell_type": "code",
   "execution_count": 4,
   "id": "b9140673",
   "metadata": {},
   "outputs": [
    {
     "name": "stdout",
     "output_type": "stream",
     "text": [
      "{'class': ['title'], 'name': 'dromouse'}\n",
      "dromouse\n",
      "dromouse\n"
     ]
    }
   ],
   "source": [
    "\"\"\"bs: get node attrs\"\"\"\n",
    "\n",
    "print(soup.p.attrs)  # 返回的是 ‘属性’: ‘属性值’ 的字典，所有属性\n",
    "print(soup.p.attrs['name'])\n",
    "print(soup.p['name'])   # 简化版，值得一提的是，如果对应多个属性值，会返回字符串列表"
   ]
  },
  {
   "cell_type": "code",
   "execution_count": 5,
   "id": "d105f61e",
   "metadata": {},
   "outputs": [
    {
     "name": "stdout",
     "output_type": "stream",
     "text": [
      "[<b>The Dormouse's story</b>]\n",
      "<list_iterator object at 0x7fc07029f340>\n",
      "0 <b>The Dormouse's story</b>\n",
      "0 <b>The Dormouse's story</b>\n",
      "1 The Dormouse's story\n"
     ]
    }
   ],
   "source": [
    "\"\"\"Association selection\"\"\"\n",
    "# content(s), children, descendant(s), parent(s), next/previous_sibling(s)\n",
    "\n",
    "print(soup.p.contents)  # list，只匹配第一个找到的p\n",
    "print(soup.p.children) # iterator\n",
    "for i, child in enumerate(soup.p.children):\n",
    "    print(i, child)\n",
    "for i, descendant in enumerate(soup.p.descendants):\n",
    "    print(i, descendant)"
   ]
  },
  {
   "cell_type": "code",
   "execution_count": 6,
   "id": "0ea26eef",
   "metadata": {},
   "outputs": [
    {
     "name": "stdout",
     "output_type": "stream",
     "text": [
      "[<ul class=\"element\"> 你是？ </ul>, <ul class=\"element\"> 我是？ </ul>, <ul class=\"element\"> 他是？ </ul>, <ul class=\"element\"> 谁是 link？</ul>]\n",
      "[<title id=\"list-1\">link 猜猜猜</title>]\n",
      "[<title id=\"list-1\">link 猜猜猜</title>]\n",
      "[<ul class=\"element\"> 你是？ </ul>, <ul class=\"element\"> 我是？ </ul>, <ul class=\"element\"> 他是？ </ul>, <ul class=\"element\"> 谁是 link？</ul>]\n",
      "['link 猜猜猜', ' 谁是 link？', 'click this link']\n"
     ]
    }
   ],
   "source": [
    "\"\"\"find_all or find: method seletor\"\"\"\n",
    "# find, find_all, find_parent(s), find_next_sibling(s)......\n",
    "html = \"\"\"\n",
    "<title id='list-1'>link 猜猜猜</title>\n",
    "<div>\n",
    "<ul class='element'> 你是？ </ul>\n",
    "<ul class='element'> 我是？ </ul>\n",
    "<ul class='element'> 他是？ </ul>\n",
    "<ul class='element'> 谁是 link？</ul>\n",
    "<a href='www.hao123.com'>click this link</a>\n",
    "</div>\n",
    "\"\"\"\n",
    "soup = BeautifulSoup(html, 'lxml')\n",
    "print(soup.find_all(name='ul'))  # 返回bs4.element.Tag类型的列表\n",
    "print(soup.find_all(attrs={'id': 'list-1'}))\n",
    "print(soup.find_all(id='list-1'))   # 简化版，注意这里没了引号\n",
    "print(soup.find_all(class_='element'))  # 注意下划线\n",
    "print(soup.find_all(string=re.compile('link')))   # 参数可以是正则表达式也可以是字符串，返回的是匹配的整个节点文本组成的列表"
   ]
  },
  {
   "cell_type": "code",
   "execution_count": 7,
   "id": "c91aab80",
   "metadata": {},
   "outputs": [
    {
     "data": {
      "text/plain": [
       "'4.CSS选择器'"
      ]
     },
     "execution_count": 7,
     "metadata": {},
     "output_type": "execute_result"
    }
   ],
   "source": [
    "\"\"\"4.CSS选择器\"\"\"\n",
    "# 只需调用select方法，传入CSS选择器即可，需要熟悉Web开发的CSS选择器\n",
    "# 这是一个非常强大的选择器，还有pyquery库与其对应"
   ]
  }
 ],
 "metadata": {
  "kernelspec": {
   "display_name": "Python 3 (ipykernel)",
   "language": "python",
   "name": "python3"
  },
  "language_info": {
   "codemirror_mode": {
    "name": "ipython",
    "version": 3
   },
   "file_extension": ".py",
   "mimetype": "text/x-python",
   "name": "python",
   "nbconvert_exporter": "python",
   "pygments_lexer": "ipython3",
   "version": "3.11.5"
  }
 },
 "nbformat": 4,
 "nbformat_minor": 5
}
