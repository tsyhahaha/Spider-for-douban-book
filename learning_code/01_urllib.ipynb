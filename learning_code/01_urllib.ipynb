{
 "cells": [
  {
   "cell_type": "code",
   "execution_count": 1,
   "metadata": {},
   "outputs": [],
   "source": [
    "import urllib.request\n",
    "import urllib.parse\n",
    "import urllib.error\n",
    "from urllib.request import HTTPPasswordMgrWithDefaultRealm, HTTPBasicAuthHandler, build_opener\n",
    "from urllib.request import ProxyHandler\n",
    "import http.cookiejar"
   ]
  },
  {
   "cell_type": "code",
   "execution_count": 2,
   "metadata": {
    "scrolled": true
   },
   "outputs": [],
   "source": [
    "\"\"\"urllib.request.urlopen: directly get the source code of website\"\"\"\n",
    "\n",
    "response = urllib.request.urlopen('https://www.python.org') # http.client.HTTPResponse\n",
    "\n",
    "web_content = response.read().decode('utf-8') # web content: html...\n",
    "status_code = response.status\n",
    "web_headers = response.getheaders()"
   ]
  },
  {
   "cell_type": "code",
   "execution_count": 3,
   "metadata": {},
   "outputs": [
    {
     "name": "stdout",
     "output_type": "stream",
     "text": [
      "b'{\\n  \"args\": {}, \\n  \"data\": \"\", \\n  \"files\": {}, \\n  \"form\": {\\n    \"word\": \"hello\"\\n  }, \\n  \"headers\": {\\n    \"Accept-Encoding\": \"identity\", \\n    \"Content-Length\": \"10\", \\n    \"Content-Type\": \"application/x-www-form-urlencoded\", \\n    \"Host\": \"httpbin.org\", \\n    \"User-Agent\": \"Python-urllib/3.11\", \\n    \"X-Amzn-Trace-Id\": \"Root=1-6553061d-79ca29c60efa84526c967739\"\\n  }, \\n  \"json\": null, \\n  \"origin\": \"223.104.122.18\", \\n  \"url\": \"http://httpbin.org/post\"\\n}\\n'\n"
     ]
    }
   ],
   "source": [
    "\"\"\"urllib.request.urlopen: post request need data params\"\"\"\n",
    "\n",
    "data = bytes(urllib.parse.urlencode({'word': 'hello'}), encoding='utf-8')\n",
    "response = urllib.request.urlopen('http://httpbin.org/post', data=data)\n",
    "print(response.read())"
   ]
  },
  {
   "cell_type": "code",
   "execution_count": 4,
   "metadata": {},
   "outputs": [
    {
     "name": "stdout",
     "output_type": "stream",
     "text": [
      "timed out\n"
     ]
    }
   ],
   "source": [
    "\"\"\"urllib.request.urlopen: handle simple exception\"\"\"\n",
    "\n",
    "try:\n",
    "   response = urllib.request.urlopen('http://httpbin.org/get', timeout=0.01)\n",
    "except urllib.error.URLError as e:\n",
    "    print(e.reason)"
   ]
  },
  {
   "cell_type": "code",
   "execution_count": 6,
   "metadata": {},
   "outputs": [
    {
     "name": "stdout",
     "output_type": "stream",
     "text": [
      "{\n",
      "  \"args\": {}, \n",
      "  \"headers\": {\n",
      "    \"Accept-Encoding\": \"identity\", \n",
      "    \"Content-Length\": \"11\", \n",
      "    \"Content-Type\": \"application/x-www-form-urlencoded\", \n",
      "    \"Host\": \"httpbin.org\", \n",
      "    \"User-Agent\": \"Mozilla/4.0 (compatible; MSIE 5.5; Windows NT)\", \n",
      "    \"X-Amzn-Trace-Id\": \"Root=1-65530629-4458026a5edffe4627f8e6a9\"\n",
      "  }, \n",
      "  \"origin\": \"223.104.122.18\", \n",
      "  \"url\": \"http://httpbin.org/get\"\n",
      "}\n",
      "\n",
      "{\n",
      "  \"args\": {}, \n",
      "  \"headers\": {\n",
      "    \"Accept-Encoding\": \"identity\", \n",
      "    \"Content-Length\": \"11\", \n",
      "    \"Content-Type\": \"application/x-www-form-urlencoded\", \n",
      "    \"Host\": \"httpbin.org\", \n",
      "    \"User-Agent\": \"Mozilla/4.0 (compatible; MSIE 5.5; Windows NT)\", \n",
      "    \"X-Amzn-Trace-Id\": \"Root=1-65530629-09a38ecb0bd776773683aac3\"\n",
      "  }, \n",
      "  \"origin\": \"223.104.122.10\", \n",
      "  \"url\": \"http://httpbin.org/get\"\n",
      "}\n",
      "\n"
     ]
    }
   ],
   "source": [
    "\"\"\"urllib.request: wrap Request body\"\"\"\n",
    "\n",
    "url = 'http://httpbin.org/get'\n",
    "headers = {\n",
    "    'User-Agent': 'Mozilla/4.0 (compatible; MSIE 5.5; Windows NT)',\n",
    "    'Host': 'httpbin.org'\n",
    "}\n",
    "dict = {\n",
    "    'name': 'Germen'\n",
    "}\n",
    "data = bytes(urllib.parse.urlencode(dict), encoding='utf-8')\n",
    "req = urllib.request.Request(url=url, data=data, headers=headers, method='GET')\n",
    "response = urllib.request.urlopen(req)\n",
    "print(response.read().decode('utf-8'))\n",
    "\n",
    "req = urllib.request.Request(url=url, data=data, method='GET')\n",
    "req.add_header('User-Agent', 'Mozilla/4.0 (compatible; MSIE 5.5; Windows NT)')\n",
    "response = urllib.request.urlopen(req)\n",
    "print(response.read().decode('utf-8'))"
   ]
  },
  {
   "cell_type": "code",
   "execution_count": 11,
   "metadata": {},
   "outputs": [
    {
     "name": "stdout",
     "output_type": "stream",
     "text": [
      "Too Many Requests\n"
     ]
    }
   ],
   "source": [
    "\"\"\"urllib.request: build opener to add proxy\"\"\"\n",
    "\n",
    "from urllib.request import build_opener\n",
    "\n",
    "proxy_handler = ProxyHandler({\n",
    "    'http': 'http://127.0.0.1:50151', \n",
    "    'https': 'https://127.0.0.1:50151'\n",
    "})\n",
    "opener = build_opener(proxy_handler)    # 利用handler构造Opener\n",
    "try:\n",
    "    response = opener.open('https://www.google.com')\n",
    "    google = response.read().decode('utf-8')\n",
    "    print('connect successfully')\n",
    "except urllib.error.URLError as e:\n",
    "    print(e.reason)\n",
    "# if no proxy exists, it'll return 'connection refuse'.Of course, even successful requests\n",
    "# may return other errors, such as 'too many requests'"
   ]
  },
  {
   "cell_type": "code",
   "execution_count": 13,
   "metadata": {},
   "outputs": [
    {
     "name": "stdout",
     "output_type": "stream",
     "text": [
      "BIDUPSID=256F2DB4CEEAE718087EC9D1A85BDF57\n",
      "PSTM=1699940766\n",
      "BAIDUID=256F2DB4CEEAE718087EC9D1A85BDF57:FG=1\n",
      "BAIDUID_BFESS=256F2DB4CEEAE718087EC9D1A85BDF57:FG=1\n"
     ]
    }
   ],
   "source": [
    "\"\"\"urllib.request: handle cookies\"\"\"\n",
    "import http.cookiejar\n",
    "\n",
    "cookie = http.cookiejar.CookieJar()     # 创建 CookieJar 对象\n",
    "handler = urllib.request.HTTPCookieProcessor(cookie)    # 构造handler\n",
    "opener = urllib.request.build_opener(handler)\n",
    "response = opener.open('http://www.baidu.com')\n",
    "for item in cookie:\n",
    "    print(item.name+\"=\"+item.value)\n",
    "\n",
    "# save cookies as a file\n",
    "filename = '../data/cookies.txt'\n",
    "cookie = http.cookiejar.MozillaCookieJar(filename)\n",
    "handler = urllib.request.HTTPCookieProcessor(cookie)\n",
    "opener = urllib.request.build_opener(handler)\n",
    "response = opener.open('http://www.baidu.com')\n",
    "cookie.save(ignore_discard=True, ignore_expires=True)\n",
    "# if want to save as LWP, use 'cookie = http.cookiejar.LWPCookieJar(filename)'\n",
    "\n",
    "# read local cookies\n",
    "cookie = http.cookiejar.MozillaCookieJar()\n",
    "cookie.load(filename, ignore_discard=True, ignore_expires=True)\n",
    "handler = urllib.request.HTTPCookieProcessor(cookie)\n",
    "opener = urllib.request.build_opener(handler)\n",
    "response = opener.open('http://www.baidu.com')\n",
    "# print(response.read().decode('utf-8'))"
   ]
  },
  {
   "cell_type": "code",
   "execution_count": null,
   "metadata": {},
   "outputs": [],
   "source": []
  }
 ],
 "metadata": {
  "kernelspec": {
   "display_name": "Python 3 (ipykernel)",
   "language": "python",
   "name": "python3"
  },
  "language_info": {
   "codemirror_mode": {
    "name": "ipython",
    "version": 3
   },
   "file_extension": ".py",
   "mimetype": "text/x-python",
   "name": "python",
   "nbconvert_exporter": "python",
   "pygments_lexer": "ipython3",
   "version": "3.11.5"
  }
 },
 "nbformat": 4,
 "nbformat_minor": 2
}
