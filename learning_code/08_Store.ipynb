{
 "cells": [
  {
   "cell_type": "code",
   "execution_count": 1,
   "id": "f9b25f8c",
   "metadata": {},
   "outputs": [],
   "source": [
    "import pandas as pd\n",
    "import csv\n",
    "import json\n",
    "import requests\n",
    "from pyquery import PyQuery as pq"
   ]
  },
  {
   "cell_type": "code",
   "execution_count": 2,
   "id": "2bcce94a",
   "metadata": {
    "scrolled": true
   },
   "outputs": [
    {
     "name": "stdout",
     "output_type": "stream",
     "text": [
      "[[<div.ExploreCollectionCard.ExploreHomePage-collectionCard>], [<div.ExploreCollectionCard.ExploreHomePage-collectionCard>], [<div.ExploreCollectionCard.ExploreHomePage-collectionCard>], [<div.ExploreCollectionCard.ExploreHomePage-collectionCard>]]\n"
     ]
    }
   ],
   "source": [
    "\"\"\"TXT 存储\"\"\"\n",
    "\n",
    "url = 'https://www.zhihu.com/explore'\n",
    "headers = {\n",
    "    'User-Agent': 'Mozilla/5.0 (Windows NT 10.0; Win64; x64) AppleWebKit/537.36 (KHTML, like Gecko) Chrome' +\n",
    "                  '/96.0.4664.45 Safari/537.36'\n",
    "}\n",
    "try:\n",
    "    html = requests.get(url, headers=headers).text\n",
    "except requests.ConnectionError as e:\n",
    "    print('error')\n",
    "doc = pq(html)\n",
    "items = doc('.ExploreCollectionCard').items()\n",
    "print(list(items))\n",
    "for item in items:\n",
    "    name = item.find('.ExploreCollectionCard-title').text()\n",
    "    author = item.find('.ExploreCollectionCard-creatorName').text()\n",
    "    answer = pq(item.find('.ExploreCollectionCard-contentList').html()).text()\n",
    "    print(name, author, answer)\n",
    "    with open('../data/explore.txt', 'a', encoding='utf-8') as file:\n",
    "        file.write('\\n'.join([name, author, answer]))\n",
    "        file.write('\\n' + '='*50 + '\\n')\n"
   ]
  },
  {
   "cell_type": "code",
   "execution_count": 3,
   "id": "c97d4248",
   "metadata": {},
   "outputs": [
    {
     "name": "stdout",
     "output_type": "stream",
     "text": [
      "<class 'dict'>\n",
      "{'name': 'Bob', 'gender': 'male', 'birthday': '1992-10-18'}\n",
      "{'name': 'Bob', 'gender': 'male', 'birthday': '1992-10-18'}\n"
     ]
    }
   ],
   "source": [
    "\"\"\"JSON 存储\"\"\"\n",
    "\n",
    "str = \"\"\"\n",
    "{\n",
    "    \"name\": \"Bob\",\n",
    "    \"gender\": \"male\",\n",
    "    \"birthday\": \"1992-10-18\"\n",
    "}\n",
    "\"\"\"\n",
    "\n",
    "data = json.loads(str)\n",
    "print(type(data), data, sep='\\n')\n",
    "\n",
    "with open('../data/info.json', 'w') as file:\n",
    "    file.write(json.dumps(data, indent=2, ensure_ascii=False))\n",
    "# indent: 带有缩进的,ensure_ascii 防止中文乱码\n",
    "with open('../data/info.json') as f:\n",
    "    data = json.load(f)\n",
    "print(data)"
   ]
  },
  {
   "cell_type": "code",
   "execution_count": 4,
   "id": "4b8bd0c9",
   "metadata": {},
   "outputs": [
    {
     "name": "stdout",
     "output_type": "stream",
     "text": [
      "['id\\tname\\tage']\n",
      "['10001\\tMike\\t20']\n",
      "['10002\\tBob\\t22']\n",
      "['10003\\tJordan\\t21']\n",
      "['10001\\tMike\\t20']\n",
      "['10002\\tBob\\t22']\n",
      "['10003\\tJordan\\t21']\n",
      "\n",
      "       id\\tname\\tage\n",
      "0    10001\\tMike\\t20\n",
      "1     10002\\tBob\\t22\n",
      "2  10003\\tJordan\\t21\n"
     ]
    }
   ],
   "source": [
    "\"\"\"CSV 存储与读出\"\"\"\n",
    "\n",
    "head = ['id', 'name', 'age']\n",
    "objects = [\n",
    "    ['10001', 'Mike', 20],\n",
    "    ['10002', 'Bob', 22],\n",
    "    ['10003', 'Jordan', 21]\n",
    "]\n",
    "with open('../data/info.csv', 'w') as cf:\n",
    "    write = csv.writer(cf, delimiter='\\t')\n",
    "    write.writerow(head)\n",
    "    for item in objects:\n",
    "        write.writerow(item)\n",
    "    # 这里写入多行可以改为\n",
    "    write.writerows(objects)\n",
    "    \n",
    "with open('../data/info.csv', 'r', encoding='utf-8') as csvfile:\n",
    "    reader = csv.reader(csvfile)\n",
    "    for row in reader:\n",
    "        print(row)\n",
    "print()\n",
    "    \n",
    "with open('../data/info.csv', 'w') as cf:\n",
    "    objects = [\n",
    "        {'id': '10001', 'name': 'Mike', 'age': 20},\n",
    "        {'id': '10002', 'name': 'Bob', 'age': 22},\n",
    "        {'id': '10003', 'name': 'Jordan', 'age': 21}\n",
    "    ]\n",
    "    write = csv.DictWriter(cf, fieldnames=head, delimiter='\\t')\n",
    "    write.writeheader()\n",
    "    write.writerows(objects)\n",
    "    \n",
    "print(pd.read_csv('../data/info.csv'))"
   ]
  },
  {
   "cell_type": "code",
   "execution_count": null,
   "id": "5fca510d",
   "metadata": {},
   "outputs": [],
   "source": []
  }
 ],
 "metadata": {
  "kernelspec": {
   "display_name": "Python 3 (ipykernel)",
   "language": "python",
   "name": "python3"
  },
  "language_info": {
   "codemirror_mode": {
    "name": "ipython",
    "version": 3
   },
   "file_extension": ".py",
   "mimetype": "text/x-python",
   "name": "python",
   "nbconvert_exporter": "python",
   "pygments_lexer": "ipython3",
   "version": "3.11.5"
  }
 },
 "nbformat": 4,
 "nbformat_minor": 5
}
