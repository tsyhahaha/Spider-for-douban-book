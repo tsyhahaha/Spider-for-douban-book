{
 "cells": [
  {
   "cell_type": "code",
   "execution_count": 1,
   "id": "a699f9ec",
   "metadata": {},
   "outputs": [
    {
     "data": {
      "text/plain": [
       "'robots协议——网路爬虫排除标准, 从中我们可以得知，那些页面可以抓取，哪些页面不能抓取'"
      ]
     },
     "execution_count": 1,
     "metadata": {},
     "output_type": "execute_result"
    }
   ],
   "source": [
    "from urllib.robotparser import RobotFileParser\n",
    "from urllib.request import urlopen\n",
    "from urllib import error\n",
    "\n",
    "\"\"\"robots协议——网路爬虫排除标准, 从中我们可以得知，那些页面可以抓取，哪些页面不能抓取\"\"\""
   ]
  },
  {
   "cell_type": "code",
   "execution_count": 2,
   "id": "e6f51f0a",
   "metadata": {},
   "outputs": [
    {
     "name": "stdout",
     "output_type": "stream",
     "text": [
      "None\n",
      "False\n"
     ]
    }
   ],
   "source": [
    "from urllib.robotparser import RobotFileParser\n",
    "\n",
    "rp = RobotFileParser()\n",
    "rp.set_url('http://www.zhihu.com/robots.txt')\n",
    "rp.read()  # read from robots.txt\n",
    "print(rp.can_fetch('*', 'http://www.baidu.com/index.html'))  # test wether can fetch"
   ]
  },
  {
   "cell_type": "code",
   "execution_count": 3,
   "id": "c92996c2",
   "metadata": {},
   "outputs": [
    {
     "name": "stdout",
     "output_type": "stream",
     "text": [
      "403 Forbidden\n"
     ]
    }
   ],
   "source": [
    "rp =RobotFileParser()\n",
    "try:\n",
    "    rp.parse(urlopen('http://www.jianshu.com/robots.txt').read().decode('utf-8').split('\\n'))\n",
    "except error.URLError as e:\n",
    "    print(e.code, e.reason)\n",
    "# acctualy，robots.txt cannot be crawled, but you can open in browser\n",
    "# www.baidu.com/robots.txt"
   ]
  },
  {
   "cell_type": "code",
   "execution_count": 13,
   "id": "8b958171",
   "metadata": {
    "scrolled": true
   },
   "outputs": [
    {
     "name": "stdout",
     "output_type": "stream",
     "text": [
      "{'https://www.google.com/webmasters/sitemap.xml', 'https://www.google.com/get/sitemap.xml', 'https://www.google.com/business/sitemap.xml', 'https://www.google.com/slides/sitemaps.xml', 'https://www.google.com/sheets/sitemaps.xml', 'https://www.google.com/forms/sitemaps.xml', 'https://www.google.com/search/about/sitemap.xml', 'https://www.google.com/adwords/sitemap.xml', 'https://www.google.com/finance/sitemap.xml', 'https://www.google.com/photos/sitemap.xml', 'https://www.google.com/drive/sitemap.xml', 'https://www.google.com/docs/sitemaps.xml', 'https://www.google.com/nonprofits/sitemap.xml', 'https://www.google.com/services/sitemap.xml', 'https://www.google.com/sitemap_search.xml', 'https://www.google.com/adsense/start/sitemap.xml', 'https://www.google.com/calendar/about/sitemap.xml', 'https://www.google.com/chrome/sitemap.xml', 'https://www.google.com/admob/sitemap.xml', 'https://www.google.com/partners/about/sitemap.xml', 'https://www.google.com/travel/flights/sitemap.xml', 'https://www.google.com/gmail/sitemap.xml', 'https://www.google.com/retail/sitemap.xml', 'https://www.google.com/chromebook/sitemap.xml'}\n"
     ]
    }
   ],
   "source": [
    "from urllib.request import build_opener, ProxyHandler\n",
    "import re\n",
    "\n",
    "def extract(xml_data):\n",
    "    loc_pattern = re.compile(r'<loc>(.*?)</loc>')\n",
    "    matches = loc_pattern.findall(xml_data)\n",
    "    \n",
    "    return matches\n",
    "\n",
    "with open('../data/google_robots.txt', 'r') as f:\n",
    "    content = f.read()\n",
    "    \n",
    "access = []\n",
    "rp.parse(content.splitlines())\n",
    "site_maps = rp.site_maps()   # https://www.google.com/sitemap.xml can bu crawled\n",
    "\n",
    "proxy_handler = ProxyHandler({\n",
    "    'http': 'http://127.0.0.1:50151', \n",
    "    'https': 'https://127.0.0.1:50151'\n",
    "})\n",
    "opener = build_opener(proxy_handler)    # 利用handler构造Opener\n",
    "for site_map_url in site_maps:\n",
    "    site_map_content = opener.open(site_map_url).read().decode('utf-8')\n",
    "    access.extend(extract(site_map_content))\n",
    "print(set(access))"
   ]
  },
  {
   "cell_type": "code",
   "execution_count": null,
   "id": "fbab0f5d",
   "metadata": {},
   "outputs": [],
   "source": []
  }
 ],
 "metadata": {
  "kernelspec": {
   "display_name": "Python 3 (ipykernel)",
   "language": "python",
   "name": "python3"
  },
  "language_info": {
   "codemirror_mode": {
    "name": "ipython",
    "version": 3
   },
   "file_extension": ".py",
   "mimetype": "text/x-python",
   "name": "python",
   "nbconvert_exporter": "python",
   "pygments_lexer": "ipython3",
   "version": "3.11.5"
  }
 },
 "nbformat": 4,
 "nbformat_minor": 5
}
